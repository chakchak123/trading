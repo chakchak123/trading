{
 "cells": [
  {
   "cell_type": "code",
   "execution_count": 4,
   "metadata": {},
   "outputs": [],
   "source": [
    "import csv\n",
    "import yfinance as yf\n",
    "import os\n",
    "import gspread\n",
    "from datetime import datetime, timedelta\n",
    "import pandas as pd\n",
    "from tqdm import tqdm\n",
    "import sqlite3\n",
    "import time\n",
    "from collections import Counter"
   ]
  },
  {
   "cell_type": "code",
   "execution_count": 3,
   "metadata": {},
   "outputs": [
    {
     "data": {
      "text/plain": [
       "'c:\\\\Users\\\\iamch\\\\OneDrive\\\\Documents\\\\python\\\\stocks\\\\trading'"
      ]
     },
     "execution_count": 3,
     "metadata": {},
     "output_type": "execute_result"
    }
   ],
   "source": [
    "os.getcwd()"
   ]
  },
  {
   "cell_type": "code",
   "execution_count": 10,
   "metadata": {},
   "outputs": [],
   "source": [
    "#set local path\n",
    "database_path =  'c:\\\\Users\\\\iamch\\\\OneDrive\\\\Documents\\\\python\\\\stocks\\\\trading\\\\database.db'"
   ]
  },
  {
   "cell_type": "code",
   "execution_count": 3,
   "metadata": {},
   "outputs": [],
   "source": [
    "# Function to create the stocks table in the SQLite database, only use for new database\n",
    "def create_price_table(path, table_name):\n",
    "    conn = sqlite3.connect(path)\n",
    "    cursor = conn.cursor()\n",
    "\n",
    "    cursor.execute(f\"\"\"\n",
    "    CREATE TABLE IF NOT EXISTS {table_name} (\n",
    "        ticker TEXT,\n",
    "        date DATE,\n",
    "        open REAL,\n",
    "        high REAL,\n",
    "        low REAL,\n",
    "        close REAL,\n",
    "        volume INTEGER,\n",
    "        PRIMARY KEY (ticker, date)\n",
    "    )\n",
    "    \"\"\")\n",
    "\n",
    "    conn.commit()\n",
    "    conn.close()"
   ]
  },
  {
   "cell_type": "code",
   "execution_count": 12,
   "metadata": {},
   "outputs": [],
   "source": [
    "# Function to store stock historical data in the SQLite database\n",
    "def store_stock_data_in_db(ticker, database_path, table_name):\n",
    "    conn = sqlite3.connect(database_path)\n",
    "    cursor = conn.cursor()\n",
    "\n",
    "    stock = yf.Ticker(ticker)\n",
    "    hist_data = stock.history(period=\"max\")\n",
    "\n",
    "    for index, row in hist_data.iterrows():\n",
    "        date = index.date()\n",
    "        cursor.execute(f\"\"\"\n",
    "        INSERT OR IGNORE INTO {table_name} (ticker, date, open, high, low, close, volume)\n",
    "        VALUES (?, ?, ?, ?, ?, ?, ?)\n",
    "        \"\"\", (ticker, date, row[\"Open\"], row[\"High\"], row[\"Low\"], row[\"Close\"], row[\"Volume\"]))\n",
    "\n",
    "    conn.commit()\n",
    "    conn.close()"
   ]
  },
  {
   "cell_type": "code",
   "execution_count": 8,
   "metadata": {},
   "outputs": [],
   "source": [
    "#create a list of all S&P500 stock tickers from wikipedia\n",
    "\n",
    "def get_sp500_stock_list():\n",
    "    table = pd.read_html('https://en.wikipedia.org/wiki/List_of_S%26P_500_companies')[0]\n",
    "    return table['Symbol'].tolist()\n",
    "\n",
    "SP500_list = get_sp500_stock_list()\n",
    "\n",
    "for ticker in SP500_list:\n",
    "    if ticker == \"BRK.B\":\n",
    "        ticker = \"BRK-B\"\n",
    "    if ticker == \"BF.B\":\n",
    "        ticker = \"BF.B\""
   ]
  },
  {
   "cell_type": "code",
   "execution_count": 15,
   "metadata": {},
   "outputs": [
    {
     "name": "stderr",
     "output_type": "stream",
     "text": [
      "Processing items:   0%|          | 0/503 [00:00<?, ?item/s]BRK.B: No timezone found, symbol may be delisted\n",
      "BF.B: No price data found, symbol may be delisted (1d 1925-05-11 -> 2024-04-17)\n",
      "Processing items: 100%|██████████| 503/503 [00:00<00:00, 978.53item/s]\n"
     ]
    }
   ],
   "source": [
    "#ONLY RUN IF FIRST TIME\n",
    "\n",
    "#create database\n",
    "create_price_table(database_path, 'price_data')\n",
    "\n",
    "#add historical data for all S&P500\n",
    "for ticker in tqdm(SP500_list, desc='Processing items', unit='item', dynamic_ncols=True):\n",
    "\n",
    "    try:\n",
    "        store_stock_data_in_db(ticker, database_path, 'price_data')\n",
    "        #print(f'Successfully saved data for {ticker}')\n",
    "    except:\n",
    "        print(f'Failed to retrieve data for {ticker}')"
   ]
  },
  {
   "cell_type": "code",
   "execution_count": null,
   "metadata": {},
   "outputs": [],
   "source": []
  }
 ],
 "metadata": {
  "kernelspec": {
   "display_name": "Python 3",
   "language": "python",
   "name": "python3"
  },
  "language_info": {
   "codemirror_mode": {
    "name": "ipython",
    "version": 3
   },
   "file_extension": ".py",
   "mimetype": "text/x-python",
   "name": "python",
   "nbconvert_exporter": "python",
   "pygments_lexer": "ipython3",
   "version": "3.11.8"
  }
 },
 "nbformat": 4,
 "nbformat_minor": 2
}
